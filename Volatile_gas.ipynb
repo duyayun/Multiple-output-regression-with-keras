{
 "cells": [
  {
   "cell_type": "code",
   "execution_count": 1,
   "metadata": {},
   "outputs": [
    {
     "name": "stderr",
     "output_type": "stream",
     "text": [
      "C:\\Anaconda\\lib\\site-packages\\h5py\\__init__.py:36: FutureWarning: Conversion of the second argument of issubdtype from `float` to `np.floating` is deprecated. In future, it will be treated as `np.float64 == np.dtype(float).type`.\n",
      "  from ._conv import register_converters as _register_converters\n",
      "Using TensorFlow backend.\n"
     ]
    }
   ],
   "source": [
    "#Importing the libraries\n",
    "%matplotlib inline\n",
    "import numpy as np\n",
    "import pandas as pd\n",
    "import os\n",
    "import keras\n",
    "from keras.models import Sequential\n",
    "from keras.layers import Dense, Activation\n",
    "from keras.wrappers.scikit_learn import KerasRegressor\n",
    "from sklearn.model_selection import cross_val_score\n",
    "from keras.layers import Dropout\n",
    "from sklearn.model_selection import train_test_split\n",
    "from keras.preprocessing.sequence import pad_sequences\n",
    "from sklearn.datasets import make_regression\n",
    "from sklearn.preprocessing import MinMaxScaler\n",
    "from sklearn import metrics\n",
    "from scipy.stats import zscore\n",
    "from keras.callbacks import EarlyStopping\n",
    "from matplotlib.pyplot import figure, show"
   ]
  },
  {
   "cell_type": "code",
   "execution_count": 2,
   "metadata": {},
   "outputs": [
    {
     "data": {
      "text/html": [
       "<div>\n",
       "<style scoped>\n",
       "    .dataframe tbody tr th:only-of-type {\n",
       "        vertical-align: middle;\n",
       "    }\n",
       "\n",
       "    .dataframe tbody tr th {\n",
       "        vertical-align: top;\n",
       "    }\n",
       "\n",
       "    .dataframe thead th {\n",
       "        text-align: right;\n",
       "    }\n",
       "</style>\n",
       "<table border=\"1\" class=\"dataframe\">\n",
       "  <thead>\n",
       "    <tr style=\"text-align: right;\">\n",
       "      <th></th>\n",
       "      <th>H2S</th>\n",
       "      <th>CO2</th>\n",
       "      <th>N2</th>\n",
       "      <th>C1</th>\n",
       "      <th>C2</th>\n",
       "      <th>C3</th>\n",
       "      <th>C4</th>\n",
       "      <th>C5</th>\n",
       "      <th>C6</th>\n",
       "      <th>C7+</th>\n",
       "      <th>MC7+</th>\n",
       "      <th>GC7</th>\n",
       "      <th>Temp</th>\n",
       "      <th>Pressure</th>\n",
       "      <th>CGR</th>\n",
       "      <th>SGOil</th>\n",
       "      <th>SGGas</th>\n",
       "    </tr>\n",
       "  </thead>\n",
       "  <tbody>\n",
       "    <tr>\n",
       "      <th>0</th>\n",
       "      <td>0.00015</td>\n",
       "      <td>0.03735</td>\n",
       "      <td>0.01927</td>\n",
       "      <td>0.53774</td>\n",
       "      <td>0.08357</td>\n",
       "      <td>0.05518</td>\n",
       "      <td>0.04354</td>\n",
       "      <td>0.03472</td>\n",
       "      <td>0.02041</td>\n",
       "      <td>0.16807</td>\n",
       "      <td>239.40194</td>\n",
       "      <td>0.81068</td>\n",
       "      <td>889.17962</td>\n",
       "      <td>0.75017</td>\n",
       "      <td>0.68231</td>\n",
       "      <td>578.17637</td>\n",
       "      <td>998.24407</td>\n",
       "    </tr>\n",
       "    <tr>\n",
       "      <th>1</th>\n",
       "      <td>0.00038</td>\n",
       "      <td>0.02069</td>\n",
       "      <td>0.00981</td>\n",
       "      <td>0.52528</td>\n",
       "      <td>0.10473</td>\n",
       "      <td>0.04492</td>\n",
       "      <td>0.02863</td>\n",
       "      <td>0.03800</td>\n",
       "      <td>0.03238</td>\n",
       "      <td>0.19518</td>\n",
       "      <td>197.77196</td>\n",
       "      <td>0.80090</td>\n",
       "      <td>930.87734</td>\n",
       "      <td>0.73518</td>\n",
       "      <td>0.65770</td>\n",
       "      <td>562.14430</td>\n",
       "      <td>873.85808</td>\n",
       "    </tr>\n",
       "    <tr>\n",
       "      <th>2</th>\n",
       "      <td>0.00034</td>\n",
       "      <td>0.01870</td>\n",
       "      <td>0.03122</td>\n",
       "      <td>0.50508</td>\n",
       "      <td>0.13131</td>\n",
       "      <td>0.06494</td>\n",
       "      <td>0.04253</td>\n",
       "      <td>0.03776</td>\n",
       "      <td>0.02794</td>\n",
       "      <td>0.14019</td>\n",
       "      <td>176.69863</td>\n",
       "      <td>0.81296</td>\n",
       "      <td>650.74767</td>\n",
       "      <td>0.72381</td>\n",
       "      <td>0.69850</td>\n",
       "      <td>549.07451</td>\n",
       "      <td>660.55741</td>\n",
       "    </tr>\n",
       "    <tr>\n",
       "      <th>3</th>\n",
       "      <td>0.00032</td>\n",
       "      <td>0.03736</td>\n",
       "      <td>0.01403</td>\n",
       "      <td>0.58695</td>\n",
       "      <td>0.10961</td>\n",
       "      <td>0.05274</td>\n",
       "      <td>0.03391</td>\n",
       "      <td>0.01817</td>\n",
       "      <td>0.02473</td>\n",
       "      <td>0.12218</td>\n",
       "      <td>210.34309</td>\n",
       "      <td>0.83696</td>\n",
       "      <td>588.31389</td>\n",
       "      <td>0.74198</td>\n",
       "      <td>0.66499</td>\n",
       "      <td>544.80931</td>\n",
       "      <td>992.19413</td>\n",
       "    </tr>\n",
       "    <tr>\n",
       "      <th>4</th>\n",
       "      <td>0.00039</td>\n",
       "      <td>0.00925</td>\n",
       "      <td>0.03268</td>\n",
       "      <td>0.53156</td>\n",
       "      <td>0.09427</td>\n",
       "      <td>0.08539</td>\n",
       "      <td>0.03860</td>\n",
       "      <td>0.03512</td>\n",
       "      <td>0.03260</td>\n",
       "      <td>0.14015</td>\n",
       "      <td>188.31683</td>\n",
       "      <td>0.84668</td>\n",
       "      <td>798.11955</td>\n",
       "      <td>0.72758</td>\n",
       "      <td>0.64350</td>\n",
       "      <td>535.32295</td>\n",
       "      <td>853.04156</td>\n",
       "    </tr>\n",
       "  </tbody>\n",
       "</table>\n",
       "</div>"
      ],
      "text/plain": [
       "       H2S      CO2       N2       C1       C2       C3       C4       C5  \\\n",
       "0  0.00015  0.03735  0.01927  0.53774  0.08357  0.05518  0.04354  0.03472   \n",
       "1  0.00038  0.02069  0.00981  0.52528  0.10473  0.04492  0.02863  0.03800   \n",
       "2  0.00034  0.01870  0.03122  0.50508  0.13131  0.06494  0.04253  0.03776   \n",
       "3  0.00032  0.03736  0.01403  0.58695  0.10961  0.05274  0.03391  0.01817   \n",
       "4  0.00039  0.00925  0.03268  0.53156  0.09427  0.08539  0.03860  0.03512   \n",
       "\n",
       "        C6      C7+       MC7+      GC7       Temp  Pressure      CGR  \\\n",
       "0  0.02041  0.16807  239.40194  0.81068  889.17962   0.75017  0.68231   \n",
       "1  0.03238  0.19518  197.77196  0.80090  930.87734   0.73518  0.65770   \n",
       "2  0.02794  0.14019  176.69863  0.81296  650.74767   0.72381  0.69850   \n",
       "3  0.02473  0.12218  210.34309  0.83696  588.31389   0.74198  0.66499   \n",
       "4  0.03260  0.14015  188.31683  0.84668  798.11955   0.72758  0.64350   \n",
       "\n",
       "       SGOil      SGGas  \n",
       "0  578.17637  998.24407  \n",
       "1  562.14430  873.85808  \n",
       "2  549.07451  660.55741  \n",
       "3  544.80931  992.19413  \n",
       "4  535.32295  853.04156  "
      ]
     },
     "execution_count": 2,
     "metadata": {},
     "output_type": "execute_result"
    }
   ],
   "source": [
    "df = pd.read_excel('Volatile_gas.xlsx',sheet_name='Sheet1')\n",
    "df.head()"
   ]
  },
  {
   "cell_type": "code",
   "execution_count": 4,
   "metadata": {},
   "outputs": [
    {
     "name": "stdout",
     "output_type": "stream",
     "text": [
      "<class 'pandas.core.frame.DataFrame'>\n",
      "RangeIndex: 16383 entries, 0 to 16382\n",
      "Data columns (total 12 columns):\n",
      "H2S     16383 non-null float64\n",
      "CO2     16383 non-null float64\n",
      "N2      16383 non-null float64\n",
      "C1      16383 non-null float64\n",
      "C2      16383 non-null float64\n",
      "C3      16383 non-null float64\n",
      "C4      16383 non-null float64\n",
      "C5      16383 non-null float64\n",
      "C6      16383 non-null float64\n",
      "C7+     16383 non-null float64\n",
      "MC7+    16383 non-null float64\n",
      "GC7     16383 non-null float64\n",
      "dtypes: float64(12)\n",
      "memory usage: 1.5 MB\n",
      "             Temp  Pressure      CGR      SGOil      SGGas\n",
      "0       889.17962   0.75017  0.68231  578.17637  998.24407\n",
      "1       930.87734   0.73518  0.65770  562.14430  873.85808\n",
      "2       650.74767   0.72381  0.69850  549.07451  660.55741\n",
      "3       588.31389   0.74198  0.66499  544.80931  992.19413\n",
      "4       798.11955   0.72758  0.64350  535.32295  853.04156\n",
      "5      1003.97036   0.74727  0.67274  556.23328  895.21733\n",
      "6       637.51278   0.74199  0.66583  549.62868  829.49330\n",
      "7       689.50746   0.74209  0.69887  563.20029  978.19540\n",
      "8      1157.35028   0.76249  0.68980  562.39940  662.30422\n",
      "9       742.41053   0.73106  0.62912  556.30759  884.62364\n",
      "10      601.96303   0.74769  0.67126  564.53950  764.88738\n",
      "11     1072.56947   0.74022  0.66351  571.65657  830.26300\n",
      "12      592.11445   0.76774  0.70696  590.44360  966.69161\n",
      "13      750.68028   0.73348  0.73335  555.78017  695.52809\n",
      "14      823.04710   0.75941  0.69623  581.82009  735.90516\n",
      "15      548.31311   0.76600  0.72919  589.15357  751.19203\n",
      "16     1480.86879   0.75004  0.64312  530.34284  866.95964\n",
      "17      995.43033   0.73386  0.65256  535.42160  828.85285\n",
      "18      645.44516   0.74295  0.69097  569.79433  727.67346\n",
      "19      739.37141   0.73853  0.67035  558.83181  806.32371\n",
      "20      892.52900   0.74462  0.69166  553.59025  846.49970\n",
      "21      807.19047   0.75516  0.63601  536.81189  831.60247\n",
      "22      993.27054   0.77802  0.73441  573.44977  613.18734\n",
      "23      934.36258   0.76621  0.71038  568.88853  946.20195\n",
      "24      799.37052   0.76883  0.67398  561.85038  735.97795\n",
      "25      565.73677   0.75841  0.68688  586.60519  760.65670\n",
      "26      604.03198   0.75669  0.68531  558.38593  954.58304\n",
      "27     1246.28967   0.78441  0.70272  553.03092  654.42458\n",
      "28      805.02745   0.77726  0.67338  547.06365  763.56996\n",
      "29      730.80509   0.74767  0.67249  551.93771  743.70579\n",
      "...           ...       ...      ...        ...        ...\n",
      "16353  1047.44155   0.77248  0.71649  584.44205  875.19251\n",
      "16354   930.58192   0.72197  0.65572  522.90675  685.29357\n",
      "16355  1206.06147   0.77701  0.68325  545.54100  884.71420\n",
      "16356   673.68153   0.73078  0.69732  572.79383  974.15499\n",
      "16357   712.67682   0.72186  0.69604  579.41883  943.68869\n",
      "16358   819.18989   0.75923  0.67766  588.00797  618.87876\n",
      "16359   482.69420   0.75847  0.71793  592.56799  783.31281\n",
      "16360   649.02498   0.72904  0.68896  557.55840  791.99416\n",
      "16361   854.85341   0.76103  0.66908  528.20549  751.04735\n",
      "16362   911.47216   0.77933  0.72110  572.56763  718.74965\n",
      "16363  1124.66648   0.76023  0.61011  531.36207  776.88017\n",
      "16364   940.32549   0.77780  0.69314  566.20037  739.47178\n",
      "16365   620.60954   0.77171  0.68146  565.87880  702.35864\n",
      "16366  1044.82918   0.78671  0.69348  538.59222  735.03446\n",
      "16367   772.41939   0.73521  0.70551  575.90976  739.45381\n",
      "16368   666.92916   0.73785  0.69309  571.17748  885.27759\n",
      "16369   977.39506   0.74852  0.64392  528.10152  842.41676\n",
      "16370   834.78792   0.76050  0.70224  596.85077  972.05495\n",
      "16371   789.09842   0.77216  0.69910  556.13249  612.94065\n",
      "16372   937.46807   0.75772  0.68506  549.41470  678.90812\n",
      "16373  1959.30256   0.76907  0.64394  522.65273  955.78898\n",
      "16374   780.91183   0.77554  0.68462  566.37802  921.24808\n",
      "16375   683.74321   0.77682  0.67577  552.51231  920.01977\n",
      "16376   888.02280   0.72341  0.62596  528.80754  963.13776\n",
      "16377   462.44396   0.71729  0.68203  569.73980  754.06889\n",
      "16378   741.66041   0.75913  0.68748  536.48899  809.20526\n",
      "16379   490.05204   0.76295  0.74121  595.41151  619.05883\n",
      "16380   558.66428   0.75213  0.72162  594.13313  802.68762\n",
      "16381   944.31379   0.75375  0.71172  589.51197  987.13275\n",
      "16382   871.40849   0.75057  0.72471  572.07988  881.85398\n",
      "\n",
      "[16383 rows x 5 columns]\n"
     ]
    }
   ],
   "source": [
    "X = df.iloc[:, 12:]\n",
    "y= df.iloc[:, :12]\n",
    "y.info()\n",
    "\n",
    "print(X)"
   ]
  },
  {
   "cell_type": "code",
   "execution_count": 5,
   "metadata": {},
   "outputs": [],
   "source": [
    "#Dividing the dataset\n",
    "X_train, X_test, y_train, y_test = train_test_split(\n",
    "    X, y, train_size=0.6, test_size=0.4)"
   ]
  },
  {
   "cell_type": "code",
   "execution_count": 6,
   "metadata": {},
   "outputs": [
    {
     "name": "stderr",
     "output_type": "stream",
     "text": [
      "C:\\Anaconda\\lib\\site-packages\\keras\\callbacks.py:535: RuntimeWarning: Early stopping conditioned on metric `val_loss` which is not available. Available metrics are: loss\n",
      "  (self.monitor, ','.join(list(logs.keys()))), RuntimeWarning\n"
     ]
    },
    {
     "data": {
      "text/plain": [
       "<keras.callbacks.History at 0xa8d49266d8>"
      ]
     },
     "execution_count": 6,
     "metadata": {},
     "output_type": "execute_result"
    }
   ],
   "source": [
    "# define and fit the model\n",
    "model = Sequential()\n",
    "model.add(Dense(16, input_dim=5, activation='relu'))\n",
    "model.add(Dropout(.2))\n",
    "model.add(Dense(16, activation='relu'))\n",
    "model.add(Dense(12, activation='relu'))\n",
    "model.add(Dense(12, kernel_initializer='normal'))\n",
    "earlyStopping=keras.callbacks.EarlyStopping(monitor='val_loss', patience=2, verbose=0, mode='auto')\n",
    "model.compile(loss='mse', optimizer='adam')\n",
    "model.fit(X, y, epochs=1000, callbacks=[earlyStopping], verbose=0)"
   ]
  },
  {
   "cell_type": "code",
   "execution_count": 7,
   "metadata": {},
   "outputs": [
    {
     "name": "stdout",
     "output_type": "stream",
     "text": [
      "[3.0926289e-04 1.3309065e-02 2.8428778e-02 6.1808169e-01 9.4363213e-02\n",
      " 3.5792749e-02 3.3137564e-02 2.1419534e-02 2.0454153e-02 1.3841498e-01\n",
      " 1.9650760e+02 8.4605891e-01]\n"
     ]
    }
   ],
   "source": [
    "#predicting the test data\n",
    "pred = model.predict(X_test)\n",
    "print(pred[1])"
   ]
  },
  {
   "cell_type": "code",
   "execution_count": 8,
   "metadata": {},
   "outputs": [
    {
     "name": "stdout",
     "output_type": "stream",
     "text": [
      "Score (RMSE):9.063968377278423\n"
     ]
    }
   ],
   "source": [
    "#Using the rooted mean square error to evaluate the model's performance. \n",
    "score = np.sqrt(metrics.mean_squared_error(pred, y_test))\n",
    "print('Score (RMSE):{}'.format(score))"
   ]
  },
  {
   "cell_type": "code",
   "execution_count": null,
   "metadata": {},
   "outputs": [],
   "source": []
  }
 ],
 "metadata": {
  "kernelspec": {
   "display_name": "Python 3",
   "language": "python",
   "name": "python3"
  },
  "language_info": {
   "codemirror_mode": {
    "name": "ipython",
    "version": 3
   },
   "file_extension": ".py",
   "mimetype": "text/x-python",
   "name": "python",
   "nbconvert_exporter": "python",
   "pygments_lexer": "ipython3",
   "version": "3.6.5"
  }
 },
 "nbformat": 4,
 "nbformat_minor": 2
}
