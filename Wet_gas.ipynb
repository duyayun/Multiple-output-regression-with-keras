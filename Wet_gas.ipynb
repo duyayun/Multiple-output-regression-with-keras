{
 "cells": [
  {
   "cell_type": "code",
   "execution_count": 1,
   "metadata": {},
   "outputs": [],
   "source": [
    "#importing the libraries\n",
    "import pandas as pd\n",
    "import numpy as np\n",
    "import matplotlib.pyplot as plt\n",
    "from sklearn.model_selection import train_test_split\n",
    "from sklearn.multioutput import MultiOutputRegressor\n",
    "from sklearn import preprocessing\n",
    "from sklearn.ensemble import GradientBoostingRegressor\n",
    "%matplotlib inline"
   ]
  },
  {
   "cell_type": "code",
   "execution_count": 32,
   "metadata": {},
   "outputs": [],
   "source": [
    "#Loading the data\n",
    "X = pd.read_excel('inputdata.xlsx',sheet_name='Sheet6')\n",
    "y = pd.read_excel('inputdata.xlsx',sheet_name='Sheet5')\n",
    "\n"
   ]
  },
  {
   "cell_type": "code",
   "execution_count": 33,
   "metadata": {},
   "outputs": [],
   "source": [
    "#Spliting the dataset into training set and test set\n",
    "X_train, X_test, y_train, y_test = train_test_split(\n",
    "    X, y, train_size= 0.6, test_size=0.4)\n"
   ]
  },
  {
   "cell_type": "markdown",
   "metadata": {},
   "source": [
    "### Using multiple output regressor with gradient boosting regressor for the model."
   ]
  },
  {
   "cell_type": "code",
   "execution_count": 54,
   "metadata": {},
   "outputs": [
    {
     "data": {
      "text/plain": [
       "MultiOutputRegressor(estimator=GradientBoostingRegressor(alpha=0.9, criterion='friedman_mse', init=None,\n",
       "             learning_rate=0.1, loss='ls', max_depth=3, max_features=None,\n",
       "             max_leaf_nodes=None, min_impurity_decrease=0.0,\n",
       "             min_impurity_split=None, min_samples_leaf=1,\n",
       "             min_samples_split=2, min_weight_fraction_leaf=0.0,\n",
       "             n_estimators=100, presort='auto', random_state=None,\n",
       "             subsample=1.0, verbose=0, warm_start=False),\n",
       "           n_jobs=1)"
      ]
     },
     "execution_count": 54,
     "metadata": {},
     "output_type": "execute_result"
    }
   ],
   "source": [
    "#creating the regression model\n",
    "gb = GradientBoostingRegressor()\n",
    "\n",
    "model = MultiOutputRegressor(gb)\n",
    "\n",
    "model.fit(X,y)"
   ]
  },
  {
   "cell_type": "code",
   "execution_count": 55,
   "metadata": {},
   "outputs": [
    {
     "data": {
      "text/plain": [
       "array([[6.52504103e-03, 1.02916483e-02, 9.55078952e-03, ...,\n",
       "        2.35190288e-02, 1.50137681e+02, 8.01321791e-01],\n",
       "       [6.06650072e-03, 5.32953428e-03, 5.48985322e-03, ...,\n",
       "        3.16782918e-02, 1.61318167e+02, 7.93720843e-01],\n",
       "       [6.72724647e-03, 1.82662151e-02, 1.01085347e-02, ...,\n",
       "        3.35975678e-02, 1.72062722e+02, 7.95750868e-01],\n",
       "       ...,\n",
       "       [6.62098558e-03, 3.27622736e-03, 7.80943801e-03, ...,\n",
       "        1.30873158e-02, 1.34971610e+02, 7.82210816e-01],\n",
       "       [7.35501481e-03, 3.23093584e-02, 1.02025344e-02, ...,\n",
       "        2.83278774e-02, 1.59692684e+02, 7.87877673e-01],\n",
       "       [7.12582861e-03, 3.66338506e-02, 1.17017056e-02, ...,\n",
       "        2.52089229e-02, 1.55101256e+02, 8.08971596e-01]])"
      ]
     },
     "execution_count": 55,
     "metadata": {},
     "output_type": "execute_result"
    }
   ],
   "source": [
    "# Predict on test data\n",
    "model.predict(X_test)"
   ]
  },
  {
   "cell_type": "code",
   "execution_count": null,
   "metadata": {},
   "outputs": [],
   "source": []
  },
  {
   "cell_type": "code",
   "execution_count": null,
   "metadata": {},
   "outputs": [],
   "source": []
  }
 ],
 "metadata": {
  "kernelspec": {
   "display_name": "Python 3",
   "language": "python",
   "name": "python3"
  },
  "language_info": {
   "codemirror_mode": {
    "name": "ipython",
    "version": 3
   },
   "file_extension": ".py",
   "mimetype": "text/x-python",
   "name": "python",
   "nbconvert_exporter": "python",
   "pygments_lexer": "ipython3",
   "version": "3.6.5"
  }
 },
 "nbformat": 4,
 "nbformat_minor": 2
}
